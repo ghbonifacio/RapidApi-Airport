{
 "cells": [
  {
   "cell_type": "markdown",
   "id": "6b8c768c",
   "metadata": {},
   "source": [
    "## Import's"
   ]
  },
  {
   "cell_type": "code",
   "execution_count": 1,
   "id": "a65b8b27",
   "metadata": {},
   "outputs": [],
   "source": [
    "import os\n",
    "import re\n",
    "import boto3\n",
    "import json\n",
    "import time\n",
    "import pyspark.sql.functions as F\n",
    "from pyspark.sql.window import Window\n",
    "from pyspark.sql import SparkSession\n",
    "import pandas as pd\n",
    "from pyspark.sql.types import (\n",
    "    ArrayType,\n",
    "    FloatType,\n",
    "    TimestampType,\n",
    "    DateType,\n",
    "    StringType,\n",
    "    IntegerType,\n",
    "    LongType,\n",
    "    StructType,\n",
    "    StructField\n",
    ")\n",
    "import decamelize\n",
    "from unidecode import unidecode\n",
    "import http.client"
   ]
  },
  {
   "cell_type": "code",
   "execution_count": 2,
   "id": "8a92f903",
   "metadata": {},
   "outputs": [],
   "source": [
    "os.environ['PYSPARK_SUBMIT_ARGS'] = \"--master local[2] pyspark-shell\""
   ]
  },
  {
   "cell_type": "code",
   "execution_count": 3,
   "id": "0d0b3bd7",
   "metadata": {},
   "outputs": [
    {
     "data": {
      "text/plain": [
       "<pyspark.sql.session.SparkSession.Builder at 0x7f83b322a070>"
      ]
     },
     "execution_count": 3,
     "metadata": {},
     "output_type": "execute_result"
    }
   ],
   "source": [
    "from pyspark import SparkContext,SQLContext,SparkConf,StorageLevel\n",
    "from pyspark.sql import SparkSession\n",
    "from pyspark.conf import SparkConf\n",
    "SparkSession.builder.config(conf=SparkConf())"
   ]
  },
  {
   "cell_type": "markdown",
   "id": "5fced67c",
   "metadata": {},
   "source": [
    "## Criando sessão spark"
   ]
  },
  {
   "cell_type": "code",
   "execution_count": 4,
   "id": "38374102",
   "metadata": {},
   "outputs": [
    {
     "name": "stderr",
     "output_type": "stream",
     "text": [
      "22/04/09 21:19:48 WARN Utils: Your hostname, DESKTOP-68F50BH resolves to a loopback address: 127.0.1.1; using 172.20.217.166 instead (on interface eth0)\n",
      "22/04/09 21:19:48 WARN Utils: Set SPARK_LOCAL_IP if you need to bind to another address\n",
      "WARNING: An illegal reflective access operation has occurred\n",
      "WARNING: Illegal reflective access by org.apache.spark.unsafe.Platform (file:/home/gbonifacio/hadoop/spark-3.1.2/spark-3.1.2-bin-hadoop3.2/jars/spark-unsafe_2.12-3.1.2.jar) to constructor java.nio.DirectByteBuffer(long,int)\n",
      "WARNING: Please consider reporting this to the maintainers of org.apache.spark.unsafe.Platform\n",
      "WARNING: Use --illegal-access=warn to enable warnings of further illegal reflective access operations\n",
      "WARNING: All illegal access operations will be denied in a future release\n",
      "22/04/09 21:19:50 WARN NativeCodeLoader: Unable to load native-hadoop library for your platform... using builtin-java classes where applicable\n",
      "Using Spark's default log4j profile: org/apache/spark/log4j-defaults.properties\n",
      "Setting default log level to \"WARN\".\n",
      "To adjust logging level use sc.setLogLevel(newLevel). For SparkR, use setLogLevel(newLevel).\n"
     ]
    }
   ],
   "source": [
    "spark = (\n",
    "    SparkSession.builder.appName('teste').master('local[*]').getOrCreate()\n",
    ")"
   ]
  },
  {
   "cell_type": "markdown",
   "id": "56d37f69",
   "metadata": {},
   "source": [
    "## Configurações de visualização Spark"
   ]
  },
  {
   "cell_type": "code",
   "execution_count": 5,
   "id": "35150518",
   "metadata": {},
   "outputs": [],
   "source": [
    "spark.conf.set(\"spark.sql.repl.eagerEval.enabled\",True)\n",
    "spark.conf.set(\"spark.sql.repl.eagerEval.maxNumRows\",200)"
   ]
  },
  {
   "cell_type": "markdown",
   "id": "8236f50b",
   "metadata": {},
   "source": [
    "## Lendo os dados VRA"
   ]
  },
  {
   "cell_type": "code",
   "execution_count": 6,
   "id": "4a0fd513",
   "metadata": {},
   "outputs": [
    {
     "name": "stderr",
     "output_type": "stream",
     "text": [
      "                                                                                \r"
     ]
    }
   ],
   "source": [
    "df_vra = spark.read.option(\"multiline\",\"true\") \\\n",
    "      .json(\"VRA/*.json\")"
   ]
  },
  {
   "cell_type": "code",
   "execution_count": 7,
   "id": "d4c756b0",
   "metadata": {},
   "outputs": [],
   "source": [
    "df_vra = df_vra.drop_duplicates()"
   ]
  },
  {
   "cell_type": "markdown",
   "id": "7686c037",
   "metadata": {},
   "source": [
    "### Tratamento do cabeçalho"
   ]
  },
  {
   "cell_type": "code",
   "execution_count": 8,
   "id": "aa337b33",
   "metadata": {},
   "outputs": [],
   "source": [
    "def vra_cols(rename_df):\n",
    "    for column in rename_df.columns:\n",
    "        col = decamelize.convert(column)\n",
    "        new_col = unidecode(col)\n",
    "        rename_df = rename_df.withColumnRenamed(column, new_col)\n",
    "    return rename_df "
   ]
  },
  {
   "cell_type": "code",
   "execution_count": 9,
   "id": "e056772c",
   "metadata": {},
   "outputs": [],
   "source": [
    "df_vra_tratado = vra_cols(df_vra)"
   ]
  },
  {
   "cell_type": "markdown",
   "id": "9ef841fd",
   "metadata": {},
   "source": [
    "### Salvando dados VRA"
   ]
  },
  {
   "cell_type": "code",
   "execution_count": 11,
   "id": "e9fab3ec",
   "metadata": {},
   "outputs": [
    {
     "name": "stderr",
     "output_type": "stream",
     "text": [
      "                                                                                \r"
     ]
    }
   ],
   "source": [
    "df_vra_tratado.coalesce(1).write.mode('overwrite').parquet('VRA_TRAT/')"
   ]
  },
  {
   "cell_type": "markdown",
   "id": "4110645d",
   "metadata": {},
   "source": [
    "## Lendo os dados AIR CIA"
   ]
  },
  {
   "cell_type": "code",
   "execution_count": 12,
   "id": "7878c63d",
   "metadata": {},
   "outputs": [],
   "source": [
    "df_air_cia = spark.read.options(\n",
    "    delimiter=';',\n",
    "    header=True,\n",
    "    encoding=\"utf-8\"\n",
    ").csv('AIR_CIA/*.csv')"
   ]
  },
  {
   "cell_type": "code",
   "execution_count": 13,
   "id": "728987f1",
   "metadata": {},
   "outputs": [],
   "source": [
    "df_air_cia= df_air_cia.drop_duplicates()"
   ]
  },
  {
   "cell_type": "code",
   "execution_count": 14,
   "id": "00905893",
   "metadata": {},
   "outputs": [],
   "source": [
    "F.udf(StringType())\n",
    "def air_cols(rename_df):\n",
    "    for column in rename_df.columns:\n",
    "        col = decamelize.convert(column)\n",
    "        n_col = col.replace('-', \"\").replace(\" \", \"\")\n",
    "        new_col = unidecode(n_col)\n",
    "        rename_df = rename_df.withColumnRenamed(column, new_col)\n",
    "    return rename_df"
   ]
  },
  {
   "cell_type": "code",
   "execution_count": 15,
   "id": "6c64551e",
   "metadata": {},
   "outputs": [],
   "source": [
    "df_air_cia_tratado = air_cols(df_air_cia)"
   ]
  },
  {
   "cell_type": "markdown",
   "id": "b62ee29b",
   "metadata": {},
   "source": [
    "## Separação de colunas ICAO e IATA"
   ]
  },
  {
   "cell_type": "code",
   "execution_count": 16,
   "id": "68591516",
   "metadata": {},
   "outputs": [],
   "source": [
    "df_air_cia_tratado = ( df_air_cia_tratado\n",
    "                      .withColumn('icao', F.split(df_air_cia_tratado['icaoiata'], ' ').getItem(0))\n",
    "                      .withColumn('iata', F.split(df_air_cia_tratado['icaoiata'], ' ').getItem(1))\n",
    "                     )"
   ]
  },
  {
   "cell_type": "markdown",
   "id": "a1d5598d",
   "metadata": {},
   "source": [
    "### Savando os dados"
   ]
  },
  {
   "cell_type": "code",
   "execution_count": 17,
   "id": "aef4a9d9",
   "metadata": {},
   "outputs": [
    {
     "name": "stderr",
     "output_type": "stream",
     "text": [
      "\r",
      "[Stage 5:>                                                          (0 + 1) / 1]\r",
      "\r",
      "                                                                                \r"
     ]
    }
   ],
   "source": [
    "df_air_cia_tratado.coalesce(1).write.mode('overwrite').parquet('AIR_CIA_TRAD/')"
   ]
  },
  {
   "cell_type": "markdown",
   "id": "dac9a8f7",
   "metadata": {},
   "source": [
    "## Get dados API"
   ]
  },
  {
   "cell_type": "markdown",
   "id": "d10ce843",
   "metadata": {},
   "source": [
    "### listando os aeroportos de origem e destino "
   ]
  },
  {
   "cell_type": "code",
   "execution_count": 18,
   "id": "0a46de7f",
   "metadata": {},
   "outputs": [],
   "source": [
    "df_list_ori = df_vra_tratado.select(F.col(\"icao_aerodromo_origem\").alias(\"icao\")).distinct()"
   ]
  },
  {
   "cell_type": "code",
   "execution_count": 19,
   "id": "795c1f70",
   "metadata": {},
   "outputs": [],
   "source": [
    "df_list_dest = df_vra_tratado.select(F.col(\"icao_aerodromo_destino\").alias(\"icao\")).distinct()"
   ]
  },
  {
   "cell_type": "markdown",
   "id": "9b74cf1c",
   "metadata": {},
   "source": [
    "### Fazendo union e pegando o distinct"
   ]
  },
  {
   "cell_type": "code",
   "execution_count": 20,
   "id": "59c9c534",
   "metadata": {},
   "outputs": [],
   "source": [
    "df_list = df_list_ori.union(df_list_dest)"
   ]
  },
  {
   "cell_type": "code",
   "execution_count": 21,
   "id": "a2c50983",
   "metadata": {},
   "outputs": [],
   "source": [
    "list_distinct = df_list.distinct()"
   ]
  },
  {
   "cell_type": "markdown",
   "id": "570a8ad9",
   "metadata": {},
   "source": [
    "### Requisição na API e recuperação dos dados  usando Python"
   ]
  },
  {
   "cell_type": "code",
   "execution_count": 22,
   "id": "0c382d86",
   "metadata": {},
   "outputs": [
    {
     "name": "stderr",
     "output_type": "stream",
     "text": [
      "                                                                                \r"
     ]
    }
   ],
   "source": [
    "list_dist = list_distinct.toPandas()"
   ]
  },
  {
   "cell_type": "code",
   "execution_count": 23,
   "id": "86d11b33",
   "metadata": {},
   "outputs": [],
   "source": [
    "list_aero = []\n",
    "\n",
    "for index, row in list_dist.iterrows():\n",
    "    conn = http.client.HTTPSConnection(\"airport-info.p.rapidapi.com\")\n",
    "    headers = {\n",
    "        'x-rapidapi-key': \"62d74b28f7msh522d3fa17190630p166a28jsn06312678dd42\",\n",
    "        'x-rapidapi-host': \"airport-info.p.rapidapi.com\"\n",
    "        }\n",
    "    conn.request(\"GET\", \"/airport?icao=\"+row['icao']+\"\", headers=headers)\n",
    "    res = conn.getresponse()\n",
    "    data = res.read()\n",
    "    aero = data.decode(\"utf-8\")\n",
    "    a_json = json.loads(aero)\n",
    "    list_aero.append(a_json)"
   ]
  },
  {
   "cell_type": "code",
   "execution_count": 24,
   "id": "866d29f2",
   "metadata": {},
   "outputs": [],
   "source": [
    "df_aero = pd.DataFrame(list_aero)"
   ]
  },
  {
   "cell_type": "markdown",
   "id": "4f26684d",
   "metadata": {},
   "source": [
    "### Transformando dataframe para Spark"
   ]
  },
  {
   "cell_type": "code",
   "execution_count": 25,
   "id": "08a02a1f",
   "metadata": {},
   "outputs": [],
   "source": [
    "schema_aero = StructType([ StructField(\"id\", FloatType(), True)\\\n",
    "                       ,StructField(\"iata\", StringType(), True)\\\n",
    "                       ,StructField(\"icao\", StringType(), True)\\\n",
    "                       ,StructField(\"name\", StringType(), True)\\\n",
    "                       ,StructField(\"location\", StringType(), True)\\\n",
    "                       ,StructField(\"street_number\", StringType(), True)\\\n",
    "                       ,StructField(\"street\", StringType(), True)\\\n",
    "                       ,StructField(\"city\", StringType(), True)\\\n",
    "                       ,StructField(\"county\", StringType(), True)\\\n",
    "                       ,StructField(\"state\", StringType(), True)\\\n",
    "                       ,StructField(\"country_iso\", StringType(), True)\\\n",
    "                       ,StructField(\"country\", StringType(), True)\\\n",
    "                       ,StructField(\"postal_code\", StringType(), True)\\\n",
    "                       ,StructField(\"phone\", StringType(), True)\\\n",
    "                       ,StructField(\"latitude\", FloatType(), True)\\\n",
    "                       ,StructField(\"longitude\", FloatType(), True)\\\n",
    "                       ,StructField(\"uct\", FloatType(), True)\\\n",
    "                       ,StructField(\"website\", StringType(), True)\\\n",
    "                       ,StructField(\"error\", StringType(), True)])"
   ]
  },
  {
   "cell_type": "code",
   "execution_count": 26,
   "id": "bd682e77",
   "metadata": {},
   "outputs": [],
   "source": [
    "df_aer = spark.createDataFrame(df_aero, schema=schema_aero) "
   ]
  },
  {
   "cell_type": "code",
   "execution_count": 27,
   "id": "ae89d2a1",
   "metadata": {},
   "outputs": [],
   "source": [
    "df_aer = df_aer.withColumn(\"id\", F.col(\"id\").cast(IntegerType()))"
   ]
  },
  {
   "cell_type": "code",
   "execution_count": 28,
   "id": "c5552bed",
   "metadata": {},
   "outputs": [],
   "source": [
    "df_aer = df_aer.drop_duplicates()"
   ]
  },
  {
   "cell_type": "markdown",
   "id": "22b8558f",
   "metadata": {},
   "source": [
    "### Salvando os dados"
   ]
  },
  {
   "cell_type": "code",
   "execution_count": 29,
   "id": "67a1d0d1",
   "metadata": {},
   "outputs": [
    {
     "name": "stderr",
     "output_type": "stream",
     "text": [
      "                                                                                \r"
     ]
    }
   ],
   "source": [
    "df_aer.coalesce(1).write.mode('overwrite').parquet('AERO/')"
   ]
  },
  {
   "cell_type": "markdown",
   "id": "aecc8a7c",
   "metadata": {},
   "source": [
    "## Criar views SQL"
   ]
  },
  {
   "cell_type": "code",
   "execution_count": 30,
   "id": "053a7003",
   "metadata": {},
   "outputs": [],
   "source": [
    "df_vra_tratado.createOrReplaceTempView(\"df_vra_tratado\")"
   ]
  },
  {
   "cell_type": "code",
   "execution_count": 31,
   "id": "d283ec68",
   "metadata": {},
   "outputs": [],
   "source": [
    "df_air_cia_tratado.createOrReplaceTempView(\"df_air_cia_tratado\")"
   ]
  },
  {
   "cell_type": "code",
   "execution_count": 32,
   "id": "3a4afb4a",
   "metadata": {},
   "outputs": [],
   "source": [
    "df_aer.createOrReplaceTempView(\"df_aer\")"
   ]
  },
  {
   "cell_type": "markdown",
   "id": "f7172851",
   "metadata": {},
   "source": [
    "### View rota mais utilizada por cada companhia"
   ]
  },
  {
   "cell_type": "markdown",
   "id": "8b2a30be",
   "metadata": {},
   "source": [
    "#### Classificação de rotas e seleção da mais utilizada"
   ]
  },
  {
   "cell_type": "code",
   "execution_count": 34,
   "id": "5c194313",
   "metadata": {
    "scrolled": false
   },
   "outputs": [],
   "source": [
    "view_voos = spark.sql(\"\"\"\n",
    "    select * FROM (\n",
    "        SELECT \n",
    "            v.icao_empresa_aerea, \n",
    "            v.icao_aerodromo_origem, \n",
    "            v.icao_aerodromo_destino, \n",
    "            RANK() OVER (PARTITION BY v.icao_empresa_aerea ORDER BY COUNT(*) DESC ) AS rn,\n",
    "            COUNT(*) as qtd_voo\n",
    "        FROM df_vra_tratado AS v\n",
    "        GROUP BY v.icao_empresa_aerea, v.icao_aerodromo_origem, v.icao_aerodromo_destino\n",
    ") WHERE rn = 1;\n",
    "\"\"\"\n",
    ")"
   ]
  },
  {
   "cell_type": "markdown",
   "id": "aa91dd87",
   "metadata": {},
   "source": [
    "#### criação da view para resposta final"
   ]
  },
  {
   "cell_type": "code",
   "execution_count": 35,
   "id": "3c5a7b8d",
   "metadata": {},
   "outputs": [],
   "source": [
    "view_voos.createOrReplaceTempView(\"view_voos\")"
   ]
  },
  {
   "cell_type": "markdown",
   "id": "25e2f3e2",
   "metadata": {},
   "source": [
    "#### Joins para obter todas as informações necessárias"
   ]
  },
  {
   "cell_type": "code",
   "execution_count": 36,
   "id": "7aa71799",
   "metadata": {},
   "outputs": [],
   "source": [
    "view_companhia_rota = spark.sql(\"\"\"\n",
    "    SELECT\n",
    "        c.razao_social, \n",
    "        o.name nome_aeroporto_origem, \n",
    "        icao_aerodromo_origem, \n",
    "        o.state estado_aeroporto_origem, \n",
    "        icao_aerodromo_destino, \n",
    "        d.name nome_aeroporto_destino, \n",
    "        d.state estado_aeroporto_destino\n",
    "    FROM view_voos as v\n",
    "    LEFT JOIN df_air_cia_tratado as c\n",
    "        ON v.icao_empresa_aerea = c.icao\n",
    "    LEFT JOIN df_aer as o\n",
    "        ON v.icao_aerodromo_origem = o.icao\n",
    "    LEFT JOIN df_aer as d\n",
    "        ON v.icao_aerodromo_destino = d.icao\n",
    "    WHERE c.razao_social IS NOT NULL;\n",
    "          \"\"\")\n"
   ]
  },
  {
   "cell_type": "markdown",
   "id": "b15d6231",
   "metadata": {},
   "source": [
    "### view de compnhias aereas com maior atuação em cada aeroporto"
   ]
  },
  {
   "cell_type": "markdown",
   "id": "bb2631ae",
   "metadata": {},
   "source": [
    "#### criação de views com contagem de atuação de cada empresa nos aeroportos como origem e destino"
   ]
  },
  {
   "cell_type": "code",
   "execution_count": 52,
   "id": "092fc13f",
   "metadata": {
    "scrolled": true
   },
   "outputs": [],
   "source": [
    "view_aeroporto_companhia_origem = spark.sql(\"\"\"\n",
    "            SELECT \n",
    "                icao_aerodromo_origem, icao_empresa_aerea, \n",
    "                count(*) as qtd_origem from df_vra_tratado\n",
    "             GROUP BY icao_aerodromo_origem, icao_empresa_aerea\n",
    "          \"\"\")"
   ]
  },
  {
   "cell_type": "code",
   "execution_count": 47,
   "id": "fe62d11a",
   "metadata": {},
   "outputs": [],
   "source": [
    "view_aeroporto_companhia_destino = spark.sql(\"\"\"\n",
    "            SELECT \n",
    "                icao_aerodromo_destino, icao_empresa_aerea, \n",
    "                count(*) as qtd_destino from df_vra_tratado\n",
    "             GROUP BY icao_aerodromo_destino, icao_empresa_aerea\n",
    "          \"\"\")"
   ]
  },
  {
   "cell_type": "code",
   "execution_count": 54,
   "id": "7234e423",
   "metadata": {},
   "outputs": [],
   "source": [
    "view_aeroporto_companhia_origem.createOrReplaceTempView(\"view_aeroporto_companhia_origem\")\n",
    "view_aeroporto_companhia_destino.createOrReplaceTempView(\"view_aeroporto_companhia_destino\")"
   ]
  },
  {
   "cell_type": "markdown",
   "id": "21c4b291",
   "metadata": {},
   "source": [
    "#### join das views para calculo de atuação total e classficação de atuação por companhia em cada aeroporto"
   ]
  },
  {
   "cell_type": "code",
   "execution_count": 111,
   "id": "af7d6b39",
   "metadata": {},
   "outputs": [],
   "source": [
    "view_aeroporto = spark.sql(\"\"\"\n",
    "    SELECT \n",
    "        *,\n",
    "        RANK() OVER (PARTITION BY icao_aerodromo_origem ORDER BY qtd_total DESC ) AS rn\n",
    "    FROM(\n",
    "        SELECT \n",
    "            *, \n",
    "            qtd_origem + qtd_destino as qtd_total \n",
    "        FROM \n",
    "            (\n",
    "            SELECT \n",
    "                o.icao_aerodromo_origem , \n",
    "                o.icao_empresa_aerea, \n",
    "                qtd_origem, \n",
    "                qtd_destino \n",
    "            FROM view_aeroporto_companhia_origem as o\n",
    "            LEFT JOIN view_aeroporto_companhia_destino as d\n",
    "            ON o.icao_aerodromo_origem = d.icao_aerodromo_destino AND o.icao_empresa_aerea = d.icao_empresa_aerea)\n",
    "            ) \n",
    "    \n",
    "\"\"\"\n",
    "         )"
   ]
  },
  {
   "cell_type": "code",
   "execution_count": 112,
   "id": "deee9b95",
   "metadata": {},
   "outputs": [],
   "source": [
    "view_aeroporto.createOrReplaceTempView(\"view_aeroporto\")"
   ]
  },
  {
   "cell_type": "markdown",
   "id": "da97601e",
   "metadata": {},
   "source": [
    "#### Join para obter as informações necessárias "
   ]
  },
  {
   "cell_type": "code",
   "execution_count": 126,
   "id": "bf9fb702",
   "metadata": {},
   "outputs": [],
   "source": [
    "view_aeroporto_companhia = spark.sql(\"\"\"\n",
    "    SELECT \n",
    "        b.name as nome_aeroporto, \n",
    "        a.icao_aerodromo_origem as icao_aeroporto, \n",
    "        c.razao_social as razao_social_companhia_aerea, \n",
    "        a.qtd_origem, \n",
    "        a.qtd_destino, \n",
    "        a.qtd_total\n",
    "    FROM view_aeroporto as a\n",
    "    LEFT JOIN df_aer as b\n",
    "        ON a.icao_aerodromo_origem = b.icao\n",
    "    LEFT JOIN df_air_cia_tratado as c\n",
    "        ON a.icao_empresa_aerea = c.icao\n",
    "    WHERE rn = 1 AND c.razao_social IS NOT NULL;\n",
    "    \n",
    "\"\"\"\n",
    "         )"
   ]
  },
  {
   "cell_type": "code",
   "execution_count": null,
   "id": "8c4cc676",
   "metadata": {},
   "outputs": [],
   "source": []
  }
 ],
 "metadata": {
  "kernelspec": {
   "display_name": "Python 3 (ipykernel)",
   "language": "python",
   "name": "python3"
  },
  "language_info": {
   "codemirror_mode": {
    "name": "ipython",
    "version": 3
   },
   "file_extension": ".py",
   "mimetype": "text/x-python",
   "name": "python",
   "nbconvert_exporter": "python",
   "pygments_lexer": "ipython3",
   "version": "3.8.10"
  }
 },
 "nbformat": 4,
 "nbformat_minor": 5
}
